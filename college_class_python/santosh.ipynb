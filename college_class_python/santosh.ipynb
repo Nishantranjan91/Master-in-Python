{
 "cells": [
  {
   "cell_type": "code",
   "execution_count": null,
   "id": "d0f806bb",
   "metadata": {
    "vscode": {
     "languageId": "plaintext"
    }
   },
   "outputs": [],
   "source": [
    "import numpy as np\n",
    "a=np.array([1,2,3,4])\n",
    "print(a)\n",
    "b =np.array([1,2,3],[4,5,6,][7,8,9])\n",
    "print(b)"
   ]
  },
  {
   "cell_type": "code",
   "execution_count": null,
   "id": "072acab4",
   "metadata": {
    "vscode": {
     "languageId": "plaintext"
    }
   },
   "outputs": [],
   "source": []
  }
 ],
 "metadata": {
  "language_info": {
   "name": "python"
  }
 },
 "nbformat": 4,
 "nbformat_minor": 5
}
